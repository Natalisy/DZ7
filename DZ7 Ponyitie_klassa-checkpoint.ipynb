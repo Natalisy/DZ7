{
 "cells": [
  {
   "cell_type": "code",
   "execution_count": null,
   "metadata": {},
   "outputs": [],
   "source": [
    "# Exercise 1"
   ]
  },
  {
   "cell_type": "code",
   "execution_count": null,
   "metadata": {},
   "outputs": [],
   "source": [
    "from libs.exchange import Rate"
   ]
  },
  {
   "cell_type": "code",
   "execution_count": null,
   "metadata": {},
   "outputs": [],
   "source": [
    "class NameOfTheCurrency(Rate):\n",
    "    def __init__(self):\n",
    "        super().__init__(format='full')\n",
    "    \n",
    "    def max_currency_name(self):\n",
    "        max_rate = 0\n",
    "        max_rate_name = ''\n",
    "        dict_ = self.exchange_rates()\n",
    "        for value in dict_.values():\n",
    "            if value['Value'] > max_rate:\n",
    "                max_rate = value['Value']\n",
    "                max_rate_name = value['Name']\n",
    "\n",
    "        print(max_rate_name)"
   ]
  },
  {
   "cell_type": "code",
   "execution_count": null,
   "metadata": {},
   "outputs": [],
   "source": [
    "name_cur = NameOfTheCurrency()"
   ]
  },
  {
   "cell_type": "code",
   "execution_count": null,
   "metadata": {},
   "outputs": [],
   "source": [
    "name_cur.max_currency_name()"
   ]
  },
  {
   "cell_type": "code",
   "execution_count": null,
   "metadata": {},
   "outputs": [],
   "source": [
    "# Exercise 2"
   ]
  },
  {
   "cell_type": "code",
   "execution_count": null,
   "metadata": {},
   "outputs": [],
   "source": [
    "import requests\n",
    "\n",
    "class Rate:\n",
    "    def __init__(self, format='value', diff = False):\n",
    "        self.format = format\n",
    "        self.diff = diff\n",
    "    \n",
    "    def exchange_rates(self):\n",
    "        \"\"\"\n",
    "        Возвращает ответ сервиса с информацией о валютах в виде:\n",
    "        \n",
    "        {\n",
    "            'AMD': {\n",
    "                'CharCode': 'AMD',\n",
    "                'ID': 'R01060',\n",
    "                'Name': 'Армянских драмов',\n",
    "                'Nominal': 100,\n",
    "                'NumCode': '051',\n",
    "                'Previous': 14.103,\n",
    "                'Value': 14.0879\n",
    "                },\n",
    "            ...\n",
    "        }\n",
    "        \"\"\"\n",
    "        r = requests.get('https://www.cbr-xml-daily.ru/daily_json.js')\n",
    "        return r.json()['Valute']\n",
    "    \n",
    "    def make_format(self, currency):\n",
    "        \"\"\"\n",
    "        Возвращает информацию о валюте currency в двух вариантах:\n",
    "        - полная информация о валюте при self.format = 'full':\n",
    "        Rate('full').make_format('EUR')\n",
    "        {\n",
    "            'CharCode': 'EUR',\n",
    "            'ID': 'R01239',\n",
    "            'Name': 'Евро',\n",
    "            'Nominal': 1,\n",
    "            'NumCode': '978',\n",
    "            'Previous': 79.6765,\n",
    "            'Value': 79.4966\n",
    "        }\n",
    "        \n",
    "        Rate('value').make_format('EUR')\n",
    "        79.4966\n",
    "        \"\"\"\n",
    "        response = self.exchange_rates()\n",
    "        \n",
    "        if currency in response:\n",
    "            if self.format == 'full':\n",
    "                return response[currency]\n",
    "            \n",
    "            if self.format == 'value':\n",
    "                if self.diff == True:\n",
    "                    return response[currency]['Value'] - response[currency]['Previous']\n",
    "                return response[currency]['Value']\n",
    "        \n",
    "        return 'Error'\n",
    "    \n",
    "    def eur(self):\n",
    "        \"\"\"Возвращает курс евро на сегодня в формате self.format\"\"\"\n",
    "        return self.make_format('EUR')\n",
    "    \n",
    "    def usd(self):\n",
    "        \"\"\"Возвращает курс доллара на сегодня в формате self.format\"\"\"\n",
    "        return self.make_format('USD')\n",
    "\n",
    "    def AZN(self):\n",
    "        \"\"\"Возвращает курс азербайджанского маната на сегодня в формате self.format\"\"\"\n",
    "        return self.make_format('AZN')"
   ]
  },
  {
   "cell_type": "code",
   "execution_count": null,
   "metadata": {},
   "outputs": [],
   "source": [
    "diff = Rate(format='value', diff = True)"
   ]
  },
  {
   "cell_type": "code",
   "execution_count": null,
   "metadata": {},
   "outputs": [],
   "source": [
    "diff.exchange_rates()"
   ]
  },
  {
   "cell_type": "code",
   "execution_count": null,
   "metadata": {},
   "outputs": [],
   "source": [
    "diff.usd()"
   ]
  },
  {
   "cell_type": "code",
   "execution_count": null,
   "metadata": {},
   "outputs": [],
   "source": [
    "# Exercise 3"
   ]
  },
  {
   "cell_type": "code",
   "execution_count": 1,
   "metadata": {},
   "outputs": [],
   "source": [
    "class Employee:\n",
    "    def __init__(self, name, seniority):\n",
    "        self.name = name\n",
    "        self.seniority = seniority\n",
    "        \n",
    "        self.grade = 1\n",
    "    \n",
    "    def grade_up(self):\n",
    "        \"\"\"Повышает уровень сотрудника\"\"\"\n",
    "        self.grade += 1\n",
    "    \n",
    "    def publish_grade(self):\n",
    "        \"\"\"Публикация результатов аккредитации сотрудников\"\"\"\n",
    "        # Оповещаем сотрудника о текущем количестве баллов \n",
    "        # и ранге за пройденные квалификации и межд. награды\n",
    "        print('Current count of seniority: ', self.seniority)\n",
    "        print('Current grade for seniority and awards - ', self.name, ':', self.grade)"
   ]
  },
  {
   "cell_type": "code",
   "execution_count": 2,
   "metadata": {},
   "outputs": [],
   "source": [
    "class Designer(Employee):\n",
    "    def __init__(self, name, seniority, award):\n",
    "        super().__init__(name, seniority)\n",
    "        self.award = award\n",
    "        # Подсчитываем количество баллов за межд. премии для каждого нового сотрудника\n",
    "        self.seniority_for_award = 0\n",
    "        for i in range(award):\n",
    "            self.seniority_for_award += 2\n",
    "            \n",
    "    def grade_up_for_award(self, award):\n",
    "        # Метод для подсчета количества баллов за новые межд.премии сотрудника...  \n",
    "        for i in range(award):\n",
    "            self.seniority_for_award += 2\n",
    "        print('Current ranking for awards: ', self.seniority_for_award)\n",
    "        \n",
    "        # ...и прибавления их к общему стажу\n",
    "        self.seniority += self.seniority_for_award\n",
    "        print('Current points of seniority: ', self.seniority)\n",
    "        \n",
    "    def check_if_it_is_time_for_upgrade(self):\n",
    "        # При каждой аккредитации сначала проверяем текущее количество баллов \n",
    "        # и если их достаточно - сразу повышаем ранг сотруднику\n",
    "        if self.seniority % 7 == 0:\n",
    "            self.grade_up()\n",
    "        # И после добавляем балл за прохождение текущей аккредитации\n",
    "            self.seniority += 1\n",
    "            \n",
    "        else:\n",
    "        # Если же изначально количества баллов было недостаточно, то мы проходим текущую аккредитацию,\n",
    "        # даем еще один балл за нее и снова проверяем на возможность получения нового ранга\n",
    "            self.seniority += 1\n",
    "            if self.seniority % 7 == 0:\n",
    "                self.grade_up()\n",
    "        \n",
    "        # публикация результатов\n",
    "        return self.publish_grade()"
   ]
  },
  {
   "cell_type": "code",
   "execution_count": 3,
   "metadata": {},
   "outputs": [],
   "source": [
    "John = Designer('Jhon', 0, 2)"
   ]
  },
  {
   "cell_type": "code",
   "execution_count": 4,
   "metadata": {
    "scrolled": true
   },
   "outputs": [
    {
     "name": "stdout",
     "output_type": "stream",
     "text": [
      "Current count of seniority:  1\n",
      "Current grade for seniority and awards -  Jhon : 2\n"
     ]
    }
   ],
   "source": [
    "John.check_if_it_is_time_for_upgrade()"
   ]
  },
  {
   "cell_type": "code",
   "execution_count": 5,
   "metadata": {},
   "outputs": [
    {
     "name": "stdout",
     "output_type": "stream",
     "text": [
      "Current ranking for awards:  6\n",
      "Current points of seniority:  7\n"
     ]
    }
   ],
   "source": [
    "John.grade_up_for_award(1)"
   ]
  },
  {
   "cell_type": "code",
   "execution_count": 6,
   "metadata": {},
   "outputs": [
    {
     "name": "stdout",
     "output_type": "stream",
     "text": [
      "Current count of seniority:  8\n",
      "Current grade for seniority and awards -  Jhon : 3\n"
     ]
    }
   ],
   "source": [
    "John.check_if_it_is_time_for_upgrade()"
   ]
  },
  {
   "cell_type": "code",
   "execution_count": null,
   "metadata": {},
   "outputs": [],
   "source": []
  },
  {
   "cell_type": "code",
   "execution_count": null,
   "metadata": {},
   "outputs": [],
   "source": []
  }
 ],
 "metadata": {
  "kernelspec": {
   "display_name": "Python 3",
   "language": "python",
   "name": "python3"
  },
  "language_info": {
   "codemirror_mode": {
    "name": "ipython",
    "version": 3
   },
   "file_extension": ".py",
   "mimetype": "text/x-python",
   "name": "python",
   "nbconvert_exporter": "python",
   "pygments_lexer": "ipython3",
   "version": "3.7.4"
  }
 },
 "nbformat": 4,
 "nbformat_minor": 2
}
